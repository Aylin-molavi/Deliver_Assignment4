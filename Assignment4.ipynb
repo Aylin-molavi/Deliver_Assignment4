{
 "cells": [
  {
   "cell_type": "markdown",
   "metadata": {},
   "source": [
    "### Algorithmic Heights\n"
   ]
  },
  {
   "cell_type": "markdown",
   "metadata": {},
   "source": [
    "### Graphs \n",
    "\n",
    "Formally, a graph is specified by a set of vertices (also called nodes) V\n",
    " and by edges E\n",
    " between select pairs of vertices. In the map example, V={1,2,3,…,13}\n",
    " and E\n",
    " includes, among many other edges, {1,2}\n",
    ", {9,11}\n",
    ", and {7,13}\n",
    ". Here an edge between x\n",
    " and y\n",
    " specifically means “x\n",
    " shares a border with y\n",
    ".” This is a symmetric relation—it implies also that y\n",
    " shares a border with x\n",
    "—and we denote it using set notation, e={x,y}\n",
    ". Such edges are undirected and are part of an undirected graph."
   ]
  },
  {
   "cell_type": "markdown",
   "metadata": {},
   "source": [
    "deg solution"
   ]
  },
  {
   "cell_type": "code",
   "execution_count": 3,
   "metadata": {},
   "outputs": [
    {
     "name": "stdout",
     "output_type": "stream",
     "text": [
      "19 21 17 21 25 11 13 13 28 15 17 17 19 15 20 19 19 23 27 20 18 12 26 16 27 20 25 21 22 14 27 16 22 18 13 23 22 18 25 26 17 23 20 24 25 15 20 20 14 18 21 22 24 20 19 20 17 26 19 25 24 15 23 13 17 25 20 19 19 18 22 9 23 24 18 20 23 27 18 21 13 16 13 27 20 18 25 19 16 20 21 20 25 23 16 22 19 20 23 16 14 27 25 27 19 24 18 25 8 21 20 10 20 16 21 16 24 17 16 16 17 14 15 12 24 18 27 16 17 22 19 30 14 16 25 13 17 18 19 12 21 22 16 18 18 26 30 22 20 18 22 14 15 18 28 16 20 11 24 25 15 14 20 29 23 24 18 20 24 22 21 19 21 21 23 23 18 18 15 16 22 23 16 17 28 17 22 16 19 21 22 27 16 32 27 13 16 13 23 18 17 23 16 20 15 16 19 22 20 16 20 29 22 11 23 16 20 31 26 20 25 21 17 18 16 13 26 10 13 25 16 18 22 19 22 18 25 22 15 25 18 18 28 18 26 24 15 15 18 13 17 23 23 22 23 16 17 14 27 16 17 19 23 25 21 19 24 11 17 21 26 18 14 18 23 18 15 23 23 22 25 20 15 12 17 15 21 20 24 18 27 19 12 19 15 16 21 20 21 18 22 17 19 24 19 23 24 18 25 22 22 26 27 19 17 22 12 20 18 15 24 27 33 31 17 24 18 26 15 17 19 18 18 16 16 18 16 21 25 16 17 17 16 18 15 16 24 20 18 26 19 15 30 17 20 27 19 19 23 14 28 19 15 22 15 15 19 17 18 17 14 23 23 11 18 21 20 24 22 30 21 18 12 24 13 14 20 17 21 23 17 16 27 22 18 19 13 17 18 24 27 22 22 13 17 15 18 22 26 20 16 20 17 15 18 18 20 27 24 24 19 25 23 12 19 20 25 19 19 23 14 21 18 20 16 16 20 23 22 20 22 20 23 20 20 27 20 19 11 9 14 18 13 22 21 22 20 22 15 18 32 22 26 24 16 18 22 22 22 21 14 27 24 21 11 21 13 16 28 23 24 21 18 23 21 10 18 24 20 23 24 18 21 20 24 22 26 21 20 24 23 17 29 15 15 16 20 14 19 16 18 29 24 22 16 20 17 20 26 32 20 19 18 12 25 17 17 23 11 21 16 26 17 18 22 25 17 22 19 22 18 18 19 23 13 17 19 17 18 19 18 16 30 27 21 21 23 20 17 25 27 19 22 20 28 24 24 17 16 17 24 15 21 17 25 22 22 20 23 20 14 15 20 20 12 21 23 17 25 21 17 18 17 28 21 24 14 13 12 16 19 27 22 24 13 19 25 17 17 23 15 16 23 19 18 21 18 15 18 13 17 16 21 18 20 15 26 23 17 16 20 17 23 23 19 22 23 15 26 17 23 15 35 10 15 23 14 17 22 25 25 20 24 23 19 16 15 23 18 25 23 19 23 28 21 18 27 18 26 20 16 17 19 21 14 30 25 22 25 20 23 15 12 20 16 18 22 21 12 20 21 22 29 22 22 23 13 25 19 18 16 20 15 21 15 23 17 15 20 19 15 21 12 13 13 16 20 24 27 21 25 19 21 22 25 19 19 28 12 18 28 19 24 15 9 19 18 17 16 21 23 18 24 18 18 19 18 15 15 22 17 26 15 20 24 15 17 18 19 21 13 25 24 27 27 18 25 12 17 14 23 16 22 18 28 21 18 17 19 22 11 20 22 18 21 16 17 29 21 22 25 22 18 17 27 27 26 17 20 22 20 30 23 15 16 16 14 15 14 19 8 20 26 20 16 15 20 19 20 20 18 17 13 24 23 17 22 19 15 31 21 19 25 20 27 11 19 13 30 17 18 29 19 12 20 25 18 21 22 24 19 25 20 30 18 13 25 17 19 18 22 21 18 21 13 18 13 16 15 17 20 20 20 14 16 17 25 20 16 21 17 18 12 15 19 26 12 24 26 22 27 14 24 24 24 18 27 21 15 21 21 27 18 23 14 19 24 18 20 22 11 12 20 20 17 13 24 16 25 21 20 18 17 18 21 21 29 20 19 14 23 23 17 25 18 18 20 16 20 21 25 30 27 20 11 22 14 17 16 19 26 19 21 19 14 19 17 18 18 24 22 24 13 24 28 18 11 21 17 22 23 17 22 18 22 28 19 18 18 16 11 23 15 16 14 16 21 24 22 16 16 18 16 13 28 21 21 14 20 21\n"
     ]
    }
   ],
   "source": [
    "# requirments based on dataset sample: n is the number of vertices and m is the number of edges. \n",
    "# u and v, representing an edge between vertices u and v.\n",
    "#output : A tuple containing the number of vertices (n) and a list of edges [(u1, v1), (u2, v2), ...]\n",
    "\n",
    "import networkx as nx\n",
    "\n",
    "def read_graph_from_file(file_path):\n",
    "    \n",
    "    with open(file_path, 'r') as f:\n",
    "        n, m = map(int, f.readline().strip().split()) #n and m extraction\n",
    "\n",
    "        edges = []\n",
    "        for line in f:\n",
    "            u, v = map(int, line.strip().split())\n",
    "            edges.append((u, v))\n",
    "    \n",
    "    return n, edges\n",
    "\n",
    "def compute_degrees(n, edges): # degree of each vertex - \n",
    "\n",
    "\n",
    "    degrees = [0] * n #Initialize degree lis\n",
    "\n",
    "    for u, v in edges:\n",
    "        degrees[u - 1] += 1  # Convert to 0-indexed\n",
    "        degrees[v - 1] += 1  # Convert to 0-indexed\n",
    "    \n",
    "    return degrees #list D where D[i] is the degree of vertex i (1-indexed).\n",
    "\n",
    "def main():\n",
    "    file_path = 'Datasets/rosalind_deg.txt'\n",
    "    n, edges = read_graph_from_file(file_path)\n",
    "    degrees = compute_degrees(n, edges)\n",
    "    print(' '.join(map(str, degrees)))\n",
    "\n",
    "if __name__ == \"__main__\":\n",
    "    main()\n"
   ]
  },
  {
   "cell_type": "markdown",
   "metadata": {},
   "source": [
    "ddeg solution"
   ]
  },
  {
   "cell_type": "code",
   "execution_count": null,
   "metadata": {},
   "outputs": [],
   "source": []
  },
  {
   "cell_type": "markdown",
   "metadata": {},
   "source": [
    "cc solution"
   ]
  },
  {
   "cell_type": "code",
   "execution_count": null,
   "metadata": {},
   "outputs": [],
   "source": []
  },
  {
   "cell_type": "markdown",
   "metadata": {},
   "source": [
    "bfs solution"
   ]
  },
  {
   "cell_type": "code",
   "execution_count": null,
   "metadata": {},
   "outputs": [],
   "source": []
  },
  {
   "cell_type": "markdown",
   "metadata": {},
   "source": [
    "dij solution"
   ]
  },
  {
   "cell_type": "code",
   "execution_count": null,
   "metadata": {},
   "outputs": [],
   "source": []
  },
  {
   "cell_type": "markdown",
   "metadata": {},
   "source": [
    "dag solution"
   ]
  },
  {
   "cell_type": "code",
   "execution_count": null,
   "metadata": {},
   "outputs": [],
   "source": []
  },
  {
   "cell_type": "markdown",
   "metadata": {},
   "source": [
    "bip solution"
   ]
  },
  {
   "cell_type": "code",
   "execution_count": null,
   "metadata": {},
   "outputs": [],
   "source": []
  },
  {
   "cell_type": "markdown",
   "metadata": {},
   "source": [
    "bf solution"
   ]
  },
  {
   "cell_type": "code",
   "execution_count": null,
   "metadata": {},
   "outputs": [],
   "source": []
  },
  {
   "cell_type": "markdown",
   "metadata": {},
   "source": [
    "cte solution"
   ]
  },
  {
   "cell_type": "code",
   "execution_count": null,
   "metadata": {},
   "outputs": [],
   "source": []
  },
  {
   "cell_type": "markdown",
   "metadata": {},
   "source": [
    "bip solution"
   ]
  },
  {
   "cell_type": "code",
   "execution_count": null,
   "metadata": {},
   "outputs": [],
   "source": []
  },
  {
   "cell_type": "markdown",
   "metadata": {},
   "source": [
    "nwc solution"
   ]
  },
  {
   "cell_type": "code",
   "execution_count": null,
   "metadata": {},
   "outputs": [],
   "source": []
  },
  {
   "cell_type": "markdown",
   "metadata": {},
   "source": [
    "sdag solution"
   ]
  },
  {
   "cell_type": "code",
   "execution_count": null,
   "metadata": {},
   "outputs": [],
   "source": []
  }
 ],
 "metadata": {
  "kernelspec": {
   "display_name": "base",
   "language": "python",
   "name": "python3"
  },
  "language_info": {
   "codemirror_mode": {
    "name": "ipython",
    "version": 3
   },
   "file_extension": ".py",
   "mimetype": "text/x-python",
   "name": "python",
   "nbconvert_exporter": "python",
   "pygments_lexer": "ipython3",
   "version": "3.11.5"
  }
 },
 "nbformat": 4,
 "nbformat_minor": 2
}
